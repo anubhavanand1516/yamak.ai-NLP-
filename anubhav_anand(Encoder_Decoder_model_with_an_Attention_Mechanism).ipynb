{
  "nbformat": 4,
  "nbformat_minor": 0,
  "metadata": {
    "colab": {
      "name": "anubhav_anand(Encoder-Decoder model with an Attention Mechanism) ",
      "provenance": [],
      "collapsed_sections": [],
      "authorship_tag": "ABX9TyNju/fPl0ozaImpDQLkGvhg",
      "include_colab_link": true
    },
    "kernelspec": {
      "name": "python3",
      "display_name": "Python 3"
    },
    "language_info": {
      "name": "python"
    }
  },
  "cells": [
    {
      "cell_type": "markdown",
      "metadata": {
        "id": "view-in-github",
        "colab_type": "text"
      },
      "source": [
        "<a href=\"https://colab.research.google.com/github/anubhavanand1516/yamak.ai-NLP-/blob/main/anubhav_anand(Encoder_Decoder_model_with_an_Attention_Mechanism).ipynb\" target=\"_parent\"><img src=\"https://colab.research.google.com/assets/colab-badge.svg\" alt=\"Open In Colab\"/></a>"
      ]
    },
    {
      "cell_type": "code",
      "execution_count": null,
      "metadata": {
        "colab": {
          "base_uri": "https://localhost:8080/"
        },
        "id": "aEv9QTDxHt7s",
        "outputId": "efc56a4e-5a33-4366-e6f6-55746b15e3e7"
      },
      "outputs": [
        {
          "output_type": "stream",
          "name": "stdout",
          "text": [
            "GPU device not found\n"
          ]
        }
      ],
      "source": [
        "#title Check GPU\n",
        "%tensorflow_version 2.x\n",
        "import tensorflow as tf\n",
        "device_name = tf.test.gpu_device_name()\n",
        "if device_name != '/device:GPU:0':\n",
        "  print('GPU device not found')\n",
        "else:\n",
        "  print('Found GPU at: {}'.format(device_name))"
      ]
    },
    {
      "cell_type": "code",
      "source": [
        "#title Version Info\n",
        "print('tf version: ', tf.__version__)\n",
        "print('tf.keras version:', tf.keras.__version__)\n"
      ],
      "metadata": {
        "colab": {
          "base_uri": "https://localhost:8080/"
        },
        "id": "5EbQ8AMGH3IH",
        "outputId": "bd7fec90-eb05-47bb-e53d-5b3f4cd17772"
      },
      "execution_count": null,
      "outputs": [
        {
          "output_type": "stream",
          "name": "stdout",
          "text": [
            "tf version:  2.8.0\n",
            "tf.keras version: 2.8.0\n"
          ]
        }
      ]
    },
    {
      "cell_type": "code",
      "source": [
        "#title Time\n",
        "!pip install ipython-autotime\n",
        "\n",
        "%load_ext autotime"
      ],
      "metadata": {
        "colab": {
          "base_uri": "https://localhost:8080/"
        },
        "id": "NFSnpPqFH6Vc",
        "outputId": "5613b748-178b-481c-df4d-3ad5e84aef96"
      },
      "execution_count": null,
      "outputs": [
        {
          "output_type": "stream",
          "name": "stdout",
          "text": [
            "Collecting ipython-autotime\n",
            "  Downloading ipython_autotime-0.3.1-py2.py3-none-any.whl (6.8 kB)\n",
            "Requirement already satisfied: ipython in /usr/local/lib/python3.7/dist-packages (from ipython-autotime) (5.5.0)\n",
            "Requirement already satisfied: simplegeneric>0.8 in /usr/local/lib/python3.7/dist-packages (from ipython->ipython-autotime) (0.8.1)\n",
            "Requirement already satisfied: pygments in /usr/local/lib/python3.7/dist-packages (from ipython->ipython-autotime) (2.6.1)\n",
            "Requirement already satisfied: pexpect in /usr/local/lib/python3.7/dist-packages (from ipython->ipython-autotime) (4.8.0)\n",
            "Requirement already satisfied: prompt-toolkit<2.0.0,>=1.0.4 in /usr/local/lib/python3.7/dist-packages (from ipython->ipython-autotime) (1.0.18)\n",
            "Requirement already satisfied: traitlets>=4.2 in /usr/local/lib/python3.7/dist-packages (from ipython->ipython-autotime) (5.1.1)\n",
            "Requirement already satisfied: setuptools>=18.5 in /usr/local/lib/python3.7/dist-packages (from ipython->ipython-autotime) (57.4.0)\n",
            "Requirement already satisfied: decorator in /usr/local/lib/python3.7/dist-packages (from ipython->ipython-autotime) (4.4.2)\n",
            "Requirement already satisfied: pickleshare in /usr/local/lib/python3.7/dist-packages (from ipython->ipython-autotime) (0.7.5)\n",
            "Requirement already satisfied: six>=1.9.0 in /usr/local/lib/python3.7/dist-packages (from prompt-toolkit<2.0.0,>=1.0.4->ipython->ipython-autotime) (1.15.0)\n",
            "Requirement already satisfied: wcwidth in /usr/local/lib/python3.7/dist-packages (from prompt-toolkit<2.0.0,>=1.0.4->ipython->ipython-autotime) (0.2.5)\n",
            "Requirement already satisfied: ptyprocess>=0.5 in /usr/local/lib/python3.7/dist-packages (from pexpect->ipython->ipython-autotime) (0.7.0)\n",
            "Installing collected packages: ipython-autotime\n",
            "Successfully installed ipython-autotime-0.3.1\n",
            "time: 196 µs (started: 2022-03-11 12:31:22 +00:00)\n"
          ]
        }
      ]
    },
    {
      "cell_type": "code",
      "source": [
        "#import all the  library\n",
        "from random import randint#it give a random value\n",
        "from numpy import array#it was used for creating N-dimension array\n",
        "from numpy import argmax#it return the maxvalues in the array\n",
        "import keras.backend as K\n",
        "from tensorflow.keras import models\n",
        "from numpy import array_equal\n",
        "import numpy as np\n",
        "from tensorflow.keras.models import Sequential, Model#sequential model is a linear model\n",
        "from tensorflow.keras.layers import LSTM, Bidirectional#that used for store past information.\n",
        "from tensorflow.keras.layers import Dense, Flatten #dense layer is used for matrix multiplication.\n",
        "from tensorflow.keras import Input \n",
        "from tensorflow.keras.layers import TimeDistributed\n",
        "from tensorflow.keras.layers import RepeatVector\n",
        "from tensorflow.keras.callbacks import EarlyStopping\n",
        "from tensorflow.keras.utils import plot_model\n",
        "from tensorflow.keras.models import load_model\n",
        "import matplotlib.pyplot as plt #visualize the data in term of graph.\n",
        "import matplotlib.ticker as ticker#it is used for creating GUI.\n",
        "\n",
        "from tensorflow.keras.layers import Lambda\n",
        "from tensorflow.keras import backend as K\n",
        "\n",
        "tf.keras.backend.set_floatx('float64')"
      ],
      "metadata": {
        "colab": {
          "base_uri": "https://localhost:8080/"
        },
        "id": "FtKfQ3T_IGns",
        "outputId": "1660fc80-073d-4f31-b724-974f63da5e94"
      },
      "execution_count": null,
      "outputs": [
        {
          "output_type": "stream",
          "name": "stdout",
          "text": [
            "time: 18.3 ms (started: 2022-03-11 12:31:22 +00:00)\n"
          ]
        }
      ]
    },
    {
      "cell_type": "code",
      "source": [
        "# generate a sequence of random integers\n",
        "def generate_sequence(length, n_unique):\n",
        "\treturn [randint(1, n_unique-1) for _ in range(length)]\n",
        "\n",
        "# one hot encode sequence\n",
        "def one_hot_encode(sequence, n_unique):\n",
        "\tencoding = list()\n",
        "\tfor value in sequence:\n",
        "\t\tvector = [0 for _ in range(n_unique)]\n",
        "\t\tvector[value] = 1\n",
        "\t\tencoding.append(vector)\n",
        "\treturn array(encoding)\n",
        "\n",
        "# decode a one hot encoded string\n",
        "def one_hot_decode(encoded_seq):\n",
        "\treturn [argmax(vector) for vector in encoded_seq]\n",
        "\n",
        "# prepare data for the LSTM\n",
        "def get_reversed_pairs(time_steps,vocabulary_size,verbose= False):\n",
        "\t# generate random sequence\n",
        "\tsequence_in = generate_sequence(time_steps, vocabulary_size)\n",
        "\tsequence_out = sequence_in[::-1]\n",
        "\t\n",
        "\t# one hot encode\n",
        "\tX = one_hot_encode(sequence_in, vocabulary_size)\n",
        "\ty = one_hot_encode(sequence_out, vocabulary_size)\n",
        "\t# reshape as 3D\n",
        "\tX = X.reshape((1, X.shape[0], X.shape[1]))\n",
        "\ty = y.reshape((1, y.shape[0], y.shape[1]))\n",
        "\n",
        "\tif(verbose):\n",
        "\t\tprint('\\nFor each input sequence (X), selecting ',time_steps,' random numbers beteen 1 and ',\n",
        "\t\t      vocabulary_size, ' (0 is reserved )')\n",
        "\t  \n",
        "\t\tprint('\\nA sample X ')\n",
        "\t\tprint('X=%s' % (one_hot_decode(X[0])))\n",
        "\t\tprint('\\nreversed input sequence (X) is the output sequence (y) ')\n",
        "\t\tprint('y=%s' % (one_hot_decode(y[0])))\n",
        "\t\n",
        "\t\tprint('\\nEach input and output sequences are converted one_hot_encoded format in ',\n",
        "\t\t      vocabulary_size,' dimensions')\n",
        "\t\tprint('X=%s' % (X[0]))\n",
        "\t\tprint('y=%s' % (y[0]))\n",
        "\treturn X,y\n",
        "\n",
        "\n",
        "def create_dataset(train_size, test_size, time_steps,vocabulary_size, verbose= False):\n",
        "\tpairs = [get_reversed_pairs(time_steps,vocabulary_size) for _ in range(train_size)]\n",
        "\tpairs=np.array(pairs).squeeze()\n",
        "\tX_train = pairs[:,0]\n",
        "\ty_train = pairs[:,1]\n",
        "\tpairs = [get_reversed_pairs(time_steps,vocabulary_size) for _ in range(test_size)]\n",
        "\tpairs=np.array(pairs).squeeze()\n",
        "\tX_test = pairs[:,0]\n",
        "\ty_test = pairs[:,1]\t\n",
        "\n",
        "\tif(verbose):\n",
        "\t\tprint('\\nGenerated sequence datasets as follows (batch_size,time_steps, features)')\n",
        "\t\tprint('X_train.shape: ', X_train.shape,'y_train.shape: ', y_train.shape)\n",
        "\t\tprint('X_test.shape: ', X_test.shape,'y_test.shape: ', y_test.shape)\n",
        "\t\n",
        "\treturn X_train, y_train, X_test, \ty_test"
      ],
      "metadata": {
        "colab": {
          "base_uri": "https://localhost:8080/"
        },
        "id": "aStJ6e0jISVU",
        "outputId": "10d0495c-4d31-4e36-a4c5-e5ea32d8f920"
      },
      "execution_count": null,
      "outputs": [
        {
          "output_type": "stream",
          "name": "stdout",
          "text": [
            "time: 62.1 ms (started: 2022-03-11 12:31:22 +00:00)\n"
          ]
        }
      ]
    },
    {
      "cell_type": "code",
      "source": [
        "\n",
        "def train_test(model, X_train, y_train , X_test, \ty_test, epochs=500, batch_size=32, patience=5,verbose=0):\n",
        "\t# patient early stopping\n",
        "\tes = EarlyStopping(monitor='val_accuracy', mode='max',  verbose=1, patience=patience)\n",
        "\t# train model\n",
        "\tprint('training for ',epochs,' epochs begins with EarlyStopping(monitor= val_accuracy, patience=',patience,')....')\n",
        "\thistory=model.fit(X_train, y_train, validation_split= 0.1, epochs=epochs,batch_size=batch_size, verbose=verbose, callbacks=[es])\n",
        "\tprint(epochs,' epoch training finished...')\n",
        "\n",
        "\t# report training\n",
        "\t# list all data in history\n",
        "\t# evaluate the model\n",
        "\t_, train_acc = model.evaluate(X_train, y_train, batch_size=batch_size, verbose=0)\n",
        "\t_, test_acc = model.evaluate(X_test, \ty_test, batch_size=batch_size, verbose=0)\n",
        "\tprint('\\nPREDICTION ACCURACY (%):')\n",
        "\tprint('Train: %.3f, Test: %.3f' % (train_acc*100, test_acc*100))\n",
        "\t# summarize history for accuracy\n",
        "\tplt.plot(history.history['accuracy'])\n",
        "\tplt.plot(history.history['val_accuracy'])\n",
        "\tplt.title(model.name+' accuracy')\n",
        "\tplt.ylabel('accuracy')\n",
        "\tplt.xlabel('epoch')\n",
        "\tplt.legend(['train', 'val'], loc='upper left')\n",
        "\tplt.show()\n",
        "\t# summarize history for loss\n",
        "\tplt.plot(history.history['loss'])\n",
        "\tplt.plot(history.history['val_loss'])\n",
        "\tplt.title(model.name+' loss')\n",
        "\tplt.ylabel('loss')\n",
        "\tplt.xlabel('epoch')\n",
        "\tplt.legend(['train', 'val'], loc='upper left')\n",
        "\tplt.show()\n",
        "\n",
        "\n",
        "\n",
        "\n",
        "  \n",
        "\t# spot check some examples\n",
        "\tspace = 3*len(one_hot_decode(y_test[0]))\n",
        "\tprint('10 examples from test data...')\n",
        "\tprint('Input',' '*(space-4) ,'Expected',' '*(space-7) ,\n",
        "\t      'Predicted',' '*(space-5) ,'T/F')\n",
        "\tcorrect =0 \n",
        "\tsampleNo =  10\n",
        "\n",
        "\tpredicted= model.predict(X_test[:sampleNo], batch_size=batch_size)\n",
        "\tfor sample in range(0,sampleNo):\n",
        "\t\tif (one_hot_decode(y_test[sample])== one_hot_decode(predicted[sample])):\n",
        "\t\t\tcorrect+=1\n",
        "\t\tprint( one_hot_decode(X_test[sample]), ' ', \n",
        "\t\t\t\t\tone_hot_decode(y_test[sample]),' ', one_hot_decode(predicted[sample]),\n",
        "\t\t\t\t\t' ',one_hot_decode(y_test[sample])== one_hot_decode(predicted[sample]))\n",
        "\tprint('Accuracy: ', correct/sampleNo)\n",
        "\t"
      ],
      "metadata": {
        "colab": {
          "base_uri": "https://localhost:8080/"
        },
        "id": "rWNdqQ6CIcjj",
        "outputId": "8a0786a7-c1c8-405c-9cee-ff68c463deac"
      },
      "execution_count": null,
      "outputs": [
        {
          "output_type": "stream",
          "name": "stdout",
          "text": [
            "time: 55 ms (started: 2022-03-11 12:31:22 +00:00)\n"
          ]
        }
      ]
    },
    {
      "cell_type": "code",
      "source": [
        "n_timesteps_in = 4\n",
        "\n",
        "n_features = 10  \n",
        "# generate random sequence\n",
        "X,y = get_reversed_pairs(n_timesteps_in,  n_features, verbose=True)\n",
        "# generate datasets\n",
        "train_size= 2000 \n",
        "test_size = 200 \n",
        "\n",
        "X_train, y_train , X_test, \ty_test=create_dataset(train_size, test_size, n_timesteps_in,n_features , verbose=True)"
      ],
      "metadata": {
        "colab": {
          "base_uri": "https://localhost:8080/"
        },
        "id": "ntlfG49KI1jX",
        "outputId": "41c80139-526a-41d1-a4c1-8fcb9864e327"
      },
      "execution_count": null,
      "outputs": [
        {
          "output_type": "stream",
          "name": "stdout",
          "text": [
            "\n",
            "For each input sequence (X), selecting  4  random numbers beteen 1 and  10  (0 is reserved )\n",
            "\n",
            "A sample X \n",
            "X=[3, 1, 3, 4]\n",
            "\n",
            "reversed input sequence (X) is the output sequence (y) \n",
            "y=[4, 3, 1, 3]\n",
            "\n",
            "Each input and output sequences are converted one_hot_encoded format in  10  dimensions\n",
            "X=[[0 0 0 1 0 0 0 0 0 0]\n",
            " [0 1 0 0 0 0 0 0 0 0]\n",
            " [0 0 0 1 0 0 0 0 0 0]\n",
            " [0 0 0 0 1 0 0 0 0 0]]\n",
            "y=[[0 0 0 0 1 0 0 0 0 0]\n",
            " [0 0 0 1 0 0 0 0 0 0]\n",
            " [0 1 0 0 0 0 0 0 0 0]\n",
            " [0 0 0 1 0 0 0 0 0 0]]\n",
            "\n",
            "Generated sequence datasets as follows (batch_size,time_steps, features)\n",
            "X_train.shape:  (2000, 4, 10) y_train.shape:  (2000, 4, 10)\n",
            "X_test.shape:  (200, 4, 10) y_test.shape:  (200, 4, 10)\n",
            "time: 100 ms (started: 2022-03-11 12:31:22 +00:00)\n"
          ]
        }
      ]
    },
    {
      "cell_type": "code",
      "source": [
        "latentSpaceDimension = 16 "
      ],
      "metadata": {
        "colab": {
          "base_uri": "https://localhost:8080/"
        },
        "id": "ZZg7S2CbI_5t",
        "outputId": "be5c8fd2-7434-4a79-e6ab-dd8c2ac998d8"
      },
      "execution_count": null,
      "outputs": [
        {
          "output_type": "stream",
          "name": "stdout",
          "text": [
            "time: 1.86 ms (started: 2022-03-11 12:31:22 +00:00)\n"
          ]
        }
      ]
    },
    {
      "cell_type": "code",
      "source": [
        "def create_hard_coded_decoder_input_model(batch_size):\n",
        "  # The first part is encoder\n",
        "  encoder_inputs = Input(shape=(n_timesteps_in, n_features), name='encoder_inputs')\n",
        "  encoder_lstm = LSTM(latentSpaceDimension, return_state=True,  name='encoder_lstm')\n",
        "  encoder_outputs, state_h, state_c = encoder_lstm(encoder_inputs)\n",
        "  \n",
        "  # initial context vector is the states of the encoder\n",
        "  states = [state_h, state_c]\n",
        "  \n",
        "  # Set up the decoder layers\n",
        "  decoder_inputs = Input(shape=(1, n_features))\n",
        "  decoder_lstm = LSTM(latentSpaceDimension, return_sequences=True, \n",
        "                      return_state=True, name='decoder_lstm')\n",
        "  decoder_dense = Dense(n_features, activation='softmax',  name='decoder_dense')\n",
        "\n",
        "  all_outputs = []\n",
        "  decoder_input_data = np.zeros((batch_size, 1, n_features))\n",
        "  decoder_input_data[:, 0, 0] = 1 #\n",
        "  \n",
        "  # that is, [1 0 0 0 0 0 0 0 0 0] is the initial input for each loop\n",
        "  inputs = decoder_input_data\n",
        "  # decoder will only process one timestep at a time.\n",
        "  for _ in range(n_timesteps_in):\n",
        "      # Run the decoder on one timestep\n",
        "      outputs, state_h, state_c = decoder_lstm(inputs,\n",
        "                                              initial_state=states)\n",
        "      outputs = decoder_dense(outputs)\n",
        "      # Store the current prediction (we will concatenate all predictions later)\n",
        "      all_outputs.append(outputs)\n",
        "      # Reinject the outputs as inputs for the next loop iteration\n",
        "      # as well as update the states\n",
        "      inputs = outputs\n",
        "      states = [state_h, state_c]\n",
        "\n",
        "  #-- Concatenate all predictions such as [batch_size, timesteps, features]\n",
        "  decoder_outputs = Lambda(lambda x: K.concatenate(x, axis=1))(all_outputs)\n",
        "\n",
        "  #-- Define and compile model \n",
        "  model = Model(encoder_inputs, decoder_outputs, name='model_encoder_decoder')\n",
        "  model.compile(optimizer='rmsprop', loss='categorical_crossentropy', metrics=['accuracy'])\n",
        "  return model"
      ],
      "metadata": {
        "colab": {
          "base_uri": "https://localhost:8080/"
        },
        "id": "PGGLk7GHJK83",
        "outputId": "7405ee6a-3735-44d6-9c7f-5057ae5f0cb5"
      },
      "execution_count": null,
      "outputs": [
        {
          "output_type": "stream",
          "name": "stdout",
          "text": [
            "time: 79.2 ms (started: 2022-03-11 12:51:51 +00:00)\n"
          ]
        }
      ]
    },
    {
      "cell_type": "code",
      "source": [
        "batch_size = 10\n",
        "model_encoder_decoder=create_hard_coded_decoder_input_model(batch_size=batch_size)\n",
        "model_encoder_decoder.summary()"
      ],
      "metadata": {
        "colab": {
          "base_uri": "https://localhost:8080/"
        },
        "id": "qOuxKjLMJOlF",
        "outputId": "99bd08dd-7afb-44e8-a86a-fec3b880ae16"
      },
      "execution_count": null,
      "outputs": [
        {
          "output_type": "stream",
          "name": "stdout",
          "text": [
            "Model: \"model_encoder_decoder\"\n",
            "__________________________________________________________________________________________________\n",
            " Layer (type)                   Output Shape         Param #     Connected to                     \n",
            "==================================================================================================\n",
            " encoder_inputs (InputLayer)    [(None, 4, 10)]      0           []                               \n",
            "                                                                                                  \n",
            " encoder_lstm (LSTM)            [(None, 16),         1728        ['encoder_inputs[0][0]']         \n",
            "                                 (None, 16),                                                      \n",
            "                                 (None, 16)]                                                      \n",
            "                                                                                                  \n",
            " decoder_lstm (LSTM)            [(10, 1, 16),        1728        ['encoder_lstm[0][1]',           \n",
            "                                 (None, 16),                      'encoder_lstm[0][2]',           \n",
            "                                 (None, 16)]                      'decoder_dense[0][0]',          \n",
            "                                                                  'decoder_lstm[0][1]',           \n",
            "                                                                  'decoder_lstm[0][2]',           \n",
            "                                                                  'decoder_dense[1][0]',          \n",
            "                                                                  'decoder_lstm[1][1]',           \n",
            "                                                                  'decoder_lstm[1][2]',           \n",
            "                                                                  'decoder_dense[2][0]',          \n",
            "                                                                  'decoder_lstm[2][1]',           \n",
            "                                                                  'decoder_lstm[2][2]']           \n",
            "                                                                                                  \n",
            " decoder_dense (Dense)          (10, 1, 10)          170         ['decoder_lstm[0][0]',           \n",
            "                                                                  'decoder_lstm[1][0]',           \n",
            "                                                                  'decoder_lstm[2][0]',           \n",
            "                                                                  'decoder_lstm[3][0]']           \n",
            "                                                                                                  \n",
            " lambda_5 (Lambda)              (10, 4, 10)          0           ['decoder_dense[0][0]',          \n",
            "                                                                  'decoder_dense[1][0]',          \n",
            "                                                                  'decoder_dense[2][0]',          \n",
            "                                                                  'decoder_dense[3][0]']          \n",
            "                                                                                                  \n",
            "==================================================================================================\n",
            "Total params: 3,626\n",
            "Trainable params: 3,626\n",
            "Non-trainable params: 0\n",
            "__________________________________________________________________________________________________\n",
            "time: 1.35 s (started: 2022-03-11 12:51:54 +00:00)\n"
          ]
        }
      ]
    },
    {
      "cell_type": "code",
      "source": [
        "train_test(model_encoder_decoder, X_train, y_train , X_test, \ty_test, batch_size=batch_size,epochs=50,patience=5 ,verbose=1)"
      ],
      "metadata": {
        "colab": {
          "base_uri": "https://localhost:8080/",
          "height": 1000
        },
        "id": "L7_u8faDJTYW",
        "outputId": "ae68e9f8-68cc-41d9-fc8e-6fb1d60063e0"
      },
      "execution_count": null,
      "outputs": [
        {
          "output_type": "stream",
          "name": "stdout",
          "text": [
            "training for  50  epochs begins with EarlyStopping(monitor= val_accuracy, patience= 5 )....\n",
            "Epoch 1/50\n",
            "180/180 [==============================] - 11s 18ms/step - loss: 2.1530 - accuracy: 0.2533 - val_loss: 1.9316 - val_accuracy: 0.3175\n",
            "Epoch 2/50\n",
            "180/180 [==============================] - 1s 7ms/step - loss: 1.7726 - accuracy: 0.3465 - val_loss: 1.6543 - val_accuracy: 0.3675\n",
            "Epoch 3/50\n",
            "180/180 [==============================] - 1s 7ms/step - loss: 1.6010 - accuracy: 0.3806 - val_loss: 1.5294 - val_accuracy: 0.3875\n",
            "Epoch 4/50\n",
            "180/180 [==============================] - 1s 7ms/step - loss: 1.5060 - accuracy: 0.3911 - val_loss: 1.4537 - val_accuracy: 0.4012\n",
            "Epoch 5/50\n",
            "180/180 [==============================] - 1s 7ms/step - loss: 1.4401 - accuracy: 0.4017 - val_loss: 1.3951 - val_accuracy: 0.4213\n",
            "Epoch 6/50\n",
            "180/180 [==============================] - 1s 7ms/step - loss: 1.3826 - accuracy: 0.4131 - val_loss: 1.3406 - val_accuracy: 0.4325\n",
            "Epoch 7/50\n",
            "180/180 [==============================] - 1s 7ms/step - loss: 1.3285 - accuracy: 0.4313 - val_loss: 1.2926 - val_accuracy: 0.4587\n",
            "Epoch 8/50\n",
            "180/180 [==============================] - 1s 7ms/step - loss: 1.2761 - accuracy: 0.4426 - val_loss: 1.2435 - val_accuracy: 0.4813\n",
            "Epoch 9/50\n",
            "180/180 [==============================] - 1s 7ms/step - loss: 1.2224 - accuracy: 0.4733 - val_loss: 1.1906 - val_accuracy: 0.4800\n",
            "Epoch 10/50\n",
            "180/180 [==============================] - 1s 7ms/step - loss: 1.1625 - accuracy: 0.5065 - val_loss: 1.1283 - val_accuracy: 0.5238\n",
            "Epoch 11/50\n",
            "180/180 [==============================] - 1s 7ms/step - loss: 1.0977 - accuracy: 0.5383 - val_loss: 1.0591 - val_accuracy: 0.5600\n",
            "Epoch 12/50\n",
            "180/180 [==============================] - 1s 7ms/step - loss: 1.0294 - accuracy: 0.5754 - val_loss: 0.9913 - val_accuracy: 0.5925\n",
            "Epoch 13/50\n",
            "180/180 [==============================] - 1s 7ms/step - loss: 0.9603 - accuracy: 0.6156 - val_loss: 0.9213 - val_accuracy: 0.6288\n",
            "Epoch 14/50\n",
            "180/180 [==============================] - 1s 7ms/step - loss: 0.8915 - accuracy: 0.6514 - val_loss: 0.8566 - val_accuracy: 0.6650\n",
            "Epoch 15/50\n",
            "180/180 [==============================] - 1s 7ms/step - loss: 0.8222 - accuracy: 0.6860 - val_loss: 0.7813 - val_accuracy: 0.6975\n",
            "Epoch 16/50\n",
            "180/180 [==============================] - 1s 7ms/step - loss: 0.7505 - accuracy: 0.7212 - val_loss: 0.7106 - val_accuracy: 0.7250\n",
            "Epoch 17/50\n",
            "180/180 [==============================] - 1s 7ms/step - loss: 0.6750 - accuracy: 0.7631 - val_loss: 0.6330 - val_accuracy: 0.7688\n",
            "Epoch 18/50\n",
            "180/180 [==============================] - 1s 7ms/step - loss: 0.5943 - accuracy: 0.8043 - val_loss: 0.5500 - val_accuracy: 0.8213\n",
            "Epoch 19/50\n",
            "180/180 [==============================] - 1s 7ms/step - loss: 0.5100 - accuracy: 0.8465 - val_loss: 0.4710 - val_accuracy: 0.8662\n",
            "Epoch 20/50\n",
            "180/180 [==============================] - 1s 7ms/step - loss: 0.4269 - accuracy: 0.8821 - val_loss: 0.3954 - val_accuracy: 0.8975\n",
            "Epoch 21/50\n",
            "180/180 [==============================] - 1s 7ms/step - loss: 0.3512 - accuracy: 0.9149 - val_loss: 0.3295 - val_accuracy: 0.9175\n",
            "Epoch 22/50\n",
            "180/180 [==============================] - 1s 7ms/step - loss: 0.2854 - accuracy: 0.9392 - val_loss: 0.2823 - val_accuracy: 0.9300\n",
            "Epoch 23/50\n",
            "180/180 [==============================] - 1s 7ms/step - loss: 0.2316 - accuracy: 0.9560 - val_loss: 0.2303 - val_accuracy: 0.9513\n",
            "Epoch 24/50\n",
            "180/180 [==============================] - 1s 7ms/step - loss: 0.1874 - accuracy: 0.9701 - val_loss: 0.1936 - val_accuracy: 0.9688\n",
            "Epoch 25/50\n",
            "180/180 [==============================] - 1s 7ms/step - loss: 0.1535 - accuracy: 0.9772 - val_loss: 0.1637 - val_accuracy: 0.9725\n",
            "Epoch 26/50\n",
            "180/180 [==============================] - 1s 7ms/step - loss: 0.1259 - accuracy: 0.9853 - val_loss: 0.1595 - val_accuracy: 0.9700\n",
            "Epoch 27/50\n",
            "180/180 [==============================] - 1s 7ms/step - loss: 0.1057 - accuracy: 0.9882 - val_loss: 0.1287 - val_accuracy: 0.9788\n",
            "Epoch 28/50\n",
            "180/180 [==============================] - 1s 7ms/step - loss: 0.0884 - accuracy: 0.9901 - val_loss: 0.1176 - val_accuracy: 0.9838\n",
            "Epoch 29/50\n",
            "180/180 [==============================] - 1s 7ms/step - loss: 0.0743 - accuracy: 0.9921 - val_loss: 0.1078 - val_accuracy: 0.9850\n",
            "Epoch 30/50\n",
            "180/180 [==============================] - 1s 7ms/step - loss: 0.0662 - accuracy: 0.9946 - val_loss: 0.0930 - val_accuracy: 0.9862\n",
            "Epoch 31/50\n",
            "180/180 [==============================] - 1s 7ms/step - loss: 0.0575 - accuracy: 0.9942 - val_loss: 0.0848 - val_accuracy: 0.9875\n",
            "Epoch 32/50\n",
            "180/180 [==============================] - 1s 7ms/step - loss: 0.0513 - accuracy: 0.9958 - val_loss: 0.0780 - val_accuracy: 0.9888\n",
            "Epoch 33/50\n",
            "180/180 [==============================] - 1s 7ms/step - loss: 0.0448 - accuracy: 0.9960 - val_loss: 0.0639 - val_accuracy: 0.9912\n",
            "Epoch 34/50\n",
            "180/180 [==============================] - 1s 7ms/step - loss: 0.0379 - accuracy: 0.9968 - val_loss: 0.0612 - val_accuracy: 0.9912\n",
            "Epoch 35/50\n",
            "180/180 [==============================] - 1s 7ms/step - loss: 0.0357 - accuracy: 0.9967 - val_loss: 0.0660 - val_accuracy: 0.9888\n",
            "Epoch 36/50\n",
            "180/180 [==============================] - 1s 7ms/step - loss: 0.0312 - accuracy: 0.9969 - val_loss: 0.0427 - val_accuracy: 0.9962\n",
            "Epoch 37/50\n",
            "180/180 [==============================] - 1s 7ms/step - loss: 0.0260 - accuracy: 0.9969 - val_loss: 0.0411 - val_accuracy: 0.9975\n",
            "Epoch 38/50\n",
            "180/180 [==============================] - 1s 8ms/step - loss: 0.0246 - accuracy: 0.9979 - val_loss: 0.0379 - val_accuracy: 0.9962\n",
            "Epoch 39/50\n",
            "180/180 [==============================] - 1s 7ms/step - loss: 0.0190 - accuracy: 0.9986 - val_loss: 0.0433 - val_accuracy: 0.9925\n",
            "Epoch 40/50\n",
            "180/180 [==============================] - 1s 7ms/step - loss: 0.0181 - accuracy: 0.9985 - val_loss: 0.0325 - val_accuracy: 0.9962\n",
            "Epoch 41/50\n",
            "180/180 [==============================] - 1s 8ms/step - loss: 0.0152 - accuracy: 0.9993 - val_loss: 0.0325 - val_accuracy: 0.9962\n",
            "Epoch 42/50\n",
            "180/180 [==============================] - 1s 7ms/step - loss: 0.0127 - accuracy: 0.9993 - val_loss: 0.0295 - val_accuracy: 0.9962\n",
            "Epoch 42: early stopping\n",
            "50  epoch training finished...\n",
            "\n",
            "PREDICTION ACCURACY (%):\n",
            "Train: 99.900, Test: 99.750\n"
          ]
        },
        {
          "output_type": "display_data",
          "data": {
            "image/png": "[encoded data removed]",
            "text/plain": [
              "<Figure size 432x288 with 1 Axes>"
            ]
          },
          "metadata": {
            "needs_background": "light"
          }
        },
        {
          "output_type": "display_data",
          "data": {
            "image/png": "[encoded data removed]",
            "text/plain": [
              "<Figure size 432x288 with 1 Axes>"
            ]
          },
          "metadata": {
            "needs_background": "light"
          }
        },
        {
          "output_type": "stream",
          "name": "stdout",
          "text": [
            "10 examples from test data...\n",
            "Input          Expected       Predicted         T/F\n",
            "[5, 3, 2, 2]   [2, 2, 3, 5]   [2, 2, 3, 5]   True\n",
            "[7, 9, 3, 7]   [7, 3, 9, 7]   [7, 3, 9, 7]   True\n",
            "[6, 7, 1, 5]   [5, 1, 7, 6]   [5, 1, 7, 6]   True\n",
            "[2, 8, 9, 4]   [4, 9, 8, 2]   [4, 9, 8, 2]   True\n",
            "[2, 5, 3, 2]   [2, 3, 5, 2]   [2, 3, 5, 2]   True\n",
            "[6, 5, 4, 2]   [2, 4, 5, 6]   [2, 4, 5, 6]   True\n",
            "[7, 7, 7, 6]   [6, 7, 7, 7]   [6, 7, 7, 7]   True\n",
            "[8, 8, 9, 2]   [2, 9, 8, 8]   [2, 9, 8, 8]   True\n",
            "[7, 6, 9, 9]   [9, 9, 6, 7]   [9, 9, 6, 7]   True\n",
            "[7, 6, 3, 1]   [1, 3, 6, 7]   [1, 3, 6, 7]   True\n",
            "Accuracy:  1.0\n",
            "time: 1min 32s (started: 2022-03-11 12:53:15 +00:00)\n"
          ]
        }
      ]
    },
    {
      "cell_type": "code",
      "source": [
        ""
      ],
      "metadata": {
        "id": "loGNCwcAyAod"
      },
      "execution_count": null,
      "outputs": []
    }
  ]
}